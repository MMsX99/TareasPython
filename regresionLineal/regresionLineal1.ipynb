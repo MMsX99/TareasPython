{
  "nbformat": 4,
  "nbformat_minor": 0,
  "metadata": {
    "colab": {
      "name": "regresionLineal1.ipynb",
      "provenance": [],
      "authorship_tag": "ABX9TyMNaOfd8w0d6EyfSR1eJQ4u",
      "include_colab_link": true
    },
    "kernelspec": {
      "name": "python3",
      "display_name": "Python 3"
    },
    "language_info": {
      "name": "python"
    }
  },
  "cells": [
    {
      "cell_type": "markdown",
      "metadata": {
        "id": "view-in-github",
        "colab_type": "text"
      },
      "source": [
        "<a href=\"https://colab.research.google.com/github/MMsX99/TareasPython/blob/main/regresionLineal/regresionLineal1.ipynb\" target=\"_parent\"><img src=\"https://colab.research.google.com/assets/colab-badge.svg\" alt=\"Open In Colab\"/></a>"
      ]
    },
    {
      "cell_type": "code",
      "metadata": {
        "colab": {
          "base_uri": "https://localhost:8080/",
          "height": 329
        },
        "id": "SxQHYUtf2dxo",
        "outputId": "77041429-1de1-4575-e5f1-7d3c77f42acd"
      },
      "source": [
        "import numpy as np\n",
        "from sklearn.linear_model import LinearRegression\n",
        "import matplotlib.pyplot as plt\n",
        "\n",
        "n=10 # Número de datos\n",
        "m=0.7\n",
        "b=0.2\n",
        "ruido=0.3\n",
        "\n",
        "\n",
        "amplitud_ruido = 0.3\n",
        "x=np.random.rand(n) # genera n números entre 0 y 1\n",
        "y=np.random.rand(n)*ruido + (m*x  + b) # agrega ruido a la recta\n",
        "\n",
        "x_reg=x.reshape(-1,1)\n",
        "model = LinearRegression().fit(x_reg, y)\n",
        "r_sq = model.score(x_reg, y)\n",
        "print('coefficient of determination:', r_sq)\n",
        "y_reg=model.predict(x_reg)\n",
        "\n",
        "plt.plot(x_reg, y_reg, color='green' ,label='resultado regresion')\n",
        "plt.scatter(x,y, label='puntos generados')\n",
        "plt.legend()\n",
        "plt.title('regresion lineal')\n",
        "plt.xlabel('x')\n",
        "plt.ylabel('y')"
      ],
      "execution_count": 1,
      "outputs": [
        {
          "output_type": "stream",
          "text": [
            "coefficient of determination: 0.9289111391157071\n"
          ],
          "name": "stdout"
        },
        {
          "output_type": "execute_result",
          "data": {
            "text/plain": [
              "Text(0, 0.5, 'y')"
            ]
          },
          "metadata": {},
          "execution_count": 1
        },
        {
          "output_type": "display_data",
          "data": {
            "image/png": "[encoded data removed]",
            "text/plain": [
              "<Figure size 432x288 with 1 Axes>"
            ]
          },
          "metadata": {
            "needs_background": "light"
          }
        }
      ]
    },
    {
      "cell_type": "code",
      "metadata": {
        "colab": {
          "base_uri": "https://localhost:8080/"
        },
        "id": "EA1gF-lX3d69",
        "outputId": "9804d18b-d0ef-4dd1-b25c-19c5ed1c4f52"
      },
      "source": [
        "import numpy as np\n",
        "from sklearn.linear_model import LinearRegression\n",
        "import matplotlib.pyplot as plt\n",
        "from time import time\n",
        "#se redujo la condicion de tiempo a 1 milisegundo en vez de 1 minuto\n",
        "ndatos=10\n",
        "ciclo=True\n",
        "t_prueba=[0]\n",
        "nfigure=1\n",
        "elapsedCounter=1\n",
        "muestra=0\n",
        "def calReg(ndatos):\n",
        "  start_time = time()\n",
        "  n=ndatos # Número de datos\n",
        "  m=0.7\n",
        "  b=0.2\n",
        "  ruido=0.3\n",
        "  amplitud_ruido = 0.3\n",
        "  x=np.random.rand(n) # genera n números entre 0 y 1\n",
        "  y=np.random.rand(n)*ruido + (m*x  + b) # agrega ruido a la recta\n",
        "  x_reg=x.reshape(-1,1)\n",
        "  model = LinearRegression().fit(x_reg, y)\n",
        "  r_sq = model.score(x_reg, y)\n",
        "  print('coeficiente determinacion:', r_sq)\n",
        "  y_reg=model.predict(x_reg)\n",
        "  elapsed_time = time() - start_time\n",
        "  print(\"elapsed time \", elapsedCounter, \":\",elapsed_time, \" seconds.\")\n",
        "  return elapsed_time\n",
        "\n",
        "while ciclo==True:\n",
        "  muestra=calReg(ndatos)\n",
        "  if t_prueba[-1]<1:\n",
        "    t_prueba.append(muestra)\n",
        "  ndatos=ndatos*10\n",
        "  nfigure=nfigure+1\n",
        "  elapsedCounter=elapsedCounter+1\n",
        "  if t_prueba[-1]>=1:\n",
        "    ciclo=False\n",
        "\n",
        "\n",
        "print(\"muestra de tiempos de ejecusion resultante:\", t_prueba)"
      ],
      "execution_count": 2,
      "outputs": [
        {
          "output_type": "stream",
          "text": [
            "coeficiente determinacion: 0.8756793694312152\n",
            "elapsed time  1 : 0.002566814422607422  seconds.\n",
            "coeficiente determinacion: 0.8529698691478841\n",
            "elapsed time  2 : 0.0017447471618652344  seconds.\n",
            "coeficiente determinacion: 0.8420881831967684\n",
            "elapsed time  3 : 0.0017304420471191406  seconds.\n",
            "coeficiente determinacion: 0.8442749099498145\n",
            "elapsed time  4 : 0.0022614002227783203  seconds.\n",
            "coeficiente determinacion: 0.8453788964982654\n",
            "elapsed time  5 : 0.010179519653320312  seconds.\n",
            "coeficiente determinacion: 0.8450655991380165\n",
            "elapsed time  6 : 0.07558059692382812  seconds.\n",
            "coeficiente determinacion: 0.8447811101508287\n",
            "elapsed time  7 : 0.7909953594207764  seconds.\n",
            "coeficiente determinacion: 0.8448246704091678\n",
            "elapsed time  8 : 8.325739860534668  seconds.\n",
            "muestra de tiempos de ejecusion resultante: [0, 0.002566814422607422, 0.0017447471618652344, 0.0017304420471191406, 0.0022614002227783203, 0.010179519653320312, 0.07558059692382812, 0.7909953594207764, 8.325739860534668]\n"
          ],
          "name": "stdout"
        }
      ]
    }
  ]
}