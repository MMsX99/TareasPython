{
  "nbformat": 4,
  "nbformat_minor": 0,
  "metadata": {
    "colab": {
      "name": "Untitled1.ipynb",
      "provenance": [],
      "authorship_tag": "ABX9TyNnsa9onpzlrLkiciP492Vo",
      "include_colab_link": true
    },
    "kernelspec": {
      "name": "python3",
      "display_name": "Python 3"
    },
    "language_info": {
      "name": "python"
    }
  },
  "cells": [
    {
      "cell_type": "markdown",
      "metadata": {
        "id": "view-in-github",
        "colab_type": "text"
      },
      "source": [
        "<a href=\"https://colab.research.google.com/github/MMsX99/TareasPython/blob/main/gpiozero/Untitled1.ipynb\" target=\"_parent\"><img src=\"https://colab.research.google.com/assets/colab-badge.svg\" alt=\"Open In Colab\"/></a>"
      ]
    },
    {
      "cell_type": "code",
      "metadata": {
        "id": "_sVcukEwnSpY"
      },
      "source": [
        "from gpiozero import Button\n",
        "from gpiozero import LED\n",
        "from signal import pause\n",
        "def Ledrojo_toggle():\n",
        "  ledR.toggle()\n",
        "def Ledrojo_blink():\n",
        "  ledR.blink(on_time = 1.5, off_time = 1.5, n = 10)\n",
        "def Ledverde_toggle():\n",
        "  ledV.toggle()\n",
        "def Ledverde_blink():\n",
        "  ledV.blink(on_time = 1.5, off_time = 1.5, n = 10)\n",
        "def Ledazul_toggle():\n",
        "  ledA.toggle()\n",
        "def Ledazul_blink():\n",
        "  ledA.blink(on_time = 1.5, off_time = 1.5, n = 10)\n",
        "BotonA = Button(2)\n",
        "BotonB = Button(3)\n",
        "BotonC = Button(4)\n",
        "\n",
        "ledR = LED(14,initial_value = False)\n",
        "ledV = LED(15,initial_value = False)\n",
        "ledA = LED(18,initial_value = False)\n",
        "\n",
        "try:\n",
        "  BotonA.when_pressed = Ledrojo_toggle\n",
        "  BotonA.when_held = Ledrojo_blink\n",
        "  BotonB.when_pressed = Ledverde_toggle\n",
        "  BotonB.when_held = Ledverde_blink\n",
        "  BotonC.when_pressed = Ledazul_toggle\n",
        "  BotonC.when_held = Ledazul_blink\n",
        "  \n",
        "  pause()\n",
        "finally:\n",
        "  pass"
      ],
      "execution_count": null,
      "outputs": []
    }
  ]
}