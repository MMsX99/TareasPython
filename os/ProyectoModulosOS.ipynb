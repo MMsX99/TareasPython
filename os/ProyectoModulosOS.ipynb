{
  "nbformat": 4,
  "nbformat_minor": 0,
  "metadata": {
    "colab": {
      "name": "ProyectoModulosOS.ipynb",
      "provenance": [],
      "authorship_tag": "ABX9TyPLZaOg5LrsKSpZ7tfb2pGp",
      "include_colab_link": true
    },
    "kernelspec": {
      "name": "python3",
      "display_name": "Python 3"
    },
    "language_info": {
      "name": "python"
    }
  },
  "cells": [
    {
      "cell_type": "markdown",
      "metadata": {
        "id": "view-in-github",
        "colab_type": "text"
      },
      "source": [
        "<a href=\"https://colab.research.google.com/github/MMsX99/TareasPython/blob/main/os/ProyectoModulosOS.ipynb\" target=\"_parent\"><img src=\"https://colab.research.google.com/assets/colab-badge.svg\" alt=\"Open In Colab\"/></a>"
      ]
    },
    {
      "cell_type": "code",
      "metadata": {
        "colab": {
          "base_uri": "https://localhost:8080/",
          "height": 35
        },
        "id": "XIS-YTjuO_yd",
        "outputId": "7854cf88-3bfa-417e-8a64-ca320ae30f40"
      },
      "source": [
        "import os\n",
        "os.getcwd()"
      ],
      "execution_count": 2,
      "outputs": [
        {
          "output_type": "execute_result",
          "data": {
            "application/vnd.google.colaboratory.intrinsic+json": {
              "type": "string"
            },
            "text/plain": [
              "'/content'"
            ]
          },
          "metadata": {},
          "execution_count": 2
        }
      ]
    },
    {
      "cell_type": "code",
      "metadata": {
        "id": "znN7vq5oSKVo"
      },
      "source": [
        "import os\n",
        "os.mkdir('modulo1')\n",
        "os.mkdir('modulo2')\n",
        "os.mkdir('modulo3')\n",
        "os.chdir('modulo1')\n",
        "os.mkdir('obsrvaciones1')\n",
        "os.mknod('comentarios1.txt')\n",
        "os.chdir('/content/modulo2')\n",
        "os.mkdir('obsrvaciones2')\n",
        "os.mknod('comentarios2.txt')\n",
        "os.chdir('/content/modulo3')\n",
        "os.mkdir('obsrvaciones3')\n",
        "os.mknod('comentarios3.txt')"
      ],
      "execution_count": 4,
      "outputs": []
    },
    {
      "cell_type": "code",
      "metadata": {
        "colab": {
          "base_uri": "https://localhost:8080/"
        },
        "id": "I-Ez-j3QSKi9",
        "outputId": "3d0d5ea2-fbea-44be-bc32-c5e163559386"
      },
      "source": [
        "import os\n",
        "os.listdir('/content')"
      ],
      "execution_count": 5,
      "outputs": [
        {
          "output_type": "execute_result",
          "data": {
            "text/plain": [
              "['.config', 'modulo2', 'modulo3', 'modulo1', 'sample_data']"
            ]
          },
          "metadata": {},
          "execution_count": 5
        }
      ]
    },
    {
      "cell_type": "code",
      "metadata": {
        "id": "tlRHPG2bSKpW"
      },
      "source": [
        "import os\n",
        "os.chdir('/content')\n",
        "os.rename('modulo1','Modulacion')\n",
        "os.rename('modulo2','Transicion')\n",
        "os.rename('modulo3','copiadeSeguridad')"
      ],
      "execution_count": 6,
      "outputs": []
    },
    {
      "cell_type": "code",
      "metadata": {
        "colab": {
          "base_uri": "https://localhost:8080/"
        },
        "id": "t3joULFaZdPu",
        "outputId": "d46c9509-86bc-4e87-f439-04cb61281fac"
      },
      "source": [
        "import os\n",
        "os.chdir('/content')\n",
        "os.stat('Modulacion')"
      ],
      "execution_count": 7,
      "outputs": [
        {
          "output_type": "execute_result",
          "data": {
            "text/plain": [
              "os.stat_result(st_mode=16877, st_ino=6029314, st_dev=52, st_nlink=3, st_uid=0, st_gid=0, st_size=4096, st_atime=1629326128, st_mtime=1629325258, st_ctime=1629325941)"
            ]
          },
          "metadata": {},
          "execution_count": 7
        }
      ]
    }
  ]
}