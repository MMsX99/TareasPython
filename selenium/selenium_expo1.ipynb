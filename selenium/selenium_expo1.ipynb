{
  "nbformat": 4,
  "nbformat_minor": 0,
  "metadata": {
    "colab": {
      "name": "selenium_expo.ipynb",
      "provenance": [],
      "authorship_tag": "ABX9TyNGI9RjFkD++Bx2JUsBJB+u",
      "include_colab_link": true
    },
    "kernelspec": {
      "name": "python3",
      "display_name": "Python 3"
    },
    "language_info": {
      "name": "python"
    }
  },
  "cells": [
    {
      "cell_type": "markdown",
      "metadata": {
        "id": "view-in-github",
        "colab_type": "text"
      },
      "source": [
        "<a href=\"https://colab.research.google.com/github/MMsX99/TareasPython/blob/main/selenium/selenium_expo1.ipynb\" target=\"_parent\"><img src=\"https://colab.research.google.com/assets/colab-badge.svg\" alt=\"Open In Colab\"/></a>"
      ]
    },
    {
      "cell_type": "markdown",
      "metadata": {
        "id": "aCh-Mna_BfYW"
      },
      "source": [
        "![titulo_img.jpg](data:image/jpeg;base64,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)"
      ]
    },
    {
      "cell_type": "markdown",
      "metadata": {
        "id": "A8UZwTbtlEi4"
      },
      "source": [
        "\n",
        "\n",
        "Selenium es un marco de prueba automatizado gratuito (de código abierto) que se utiliza para validar aplicaciones web en diferentes navegadores y plataformas. Puede utilizar varios lenguajes de programación como Java, C #, Python, etc. para crear Selenium Test Scripts. Las pruebas realizadas con la herramienta de prueba de selenio generalmente se denominan pruebas de selenio.\n",
        "\n",
        "Selenium Software no es solo una herramienta, sino un conjunto de software, cada pieza satisface las diferentes necesidades de pruebas de control de calidad de Selenium de una organización. Aquí está la lista de herramientas:\n",
        "\n",
        "-Selenium Integrated Development Environment (IDE)\n",
        "\n",
        "-Selenium Remote Control (RC)\n",
        "\n",
        "-WebDriver\n",
        "\n",
        "-Selenium Grid\n",
        "\n",
        "![selenium.png](data:image/png;base64,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)"
      ]
    },
    {
      "cell_type": "markdown",
      "metadata": {
        "id": "LCipZ4T-i5kM"
      },
      "source": [
        "#Componentes de Selenium\n",
        "\n",
        "***Selenium IDE***\n",
        "\n",
        "Selenium IDE es un entorno de desarrollo integrado para pruebas con Selenium. Está implementado como una extensión de Firefox y Chrome y permite grabar, editar y depurar pruebas. Originalmente se le conoció como Selenium Recorder.\n",
        "\n",
        "Los scripts se generan en Selanese, un lenguaje de scripting especial para Selenium.\n",
        "\n",
        "###Algunas características del IDE:\n",
        "\n",
        "-Grabación y reproducción fácil\n",
        "\n",
        "-Selección inteligente de campos usando ID, nombre o XPath según se necesite.\n",
        "\n",
        "-Compleción automática de los comandos de Selenium más comunes.\n",
        "\n",
        "-Pruebas de revisión cruzada\n",
        "\n",
        "-Depuración y puntos de verificación (breakpoint)\n",
        "\n",
        "-Almacenar las pruebas como Selanese, Ruby, Java y otros formatos.\n",
        "\n",
        "-Soporte al archivo user-extensions.js\n",
        "\n",
        "-Opción para asertar el título de la página.\n",
        "\n",
        "-Opción de modificarle a la medida con el uso de complementos\n",
        "\n",
        "\n",
        "\n",
        "**Selenium Remote Control**\n",
        "\n",
        "Selenium Remote Control (RC) es un servidor escrito en Java que acepta comandos al navegador vía HTTP. RC hace posible escribir pruebas automatizadas para aplicaciones web.\n",
        "\n",
        "**Selenium WebDriver**\n",
        "\n",
        "Selenium WebDriver es el sucesor de Selenium RC. Selenium WebDriver acepta comandos (enviados en Selenese o vía el API de cliente) y los envía a un navegador. Esto se implementa a través de un controlador del navegador específico para cada navegador que envía los comandos y trae los resultados de regreso. \n",
        "\n",
        "\n",
        "**Selenium Grid**\n",
        "\n",
        "es un servidor que permite usar instancias de navegador ejecutándose en máquinas remotas. Selenium Grid permite ejecutar pruebas en paralelo en múltiples máquinas y manejar diferentes versiones y configuraciones de manera simultanea."
      ]
    },
    {
      "cell_type": "markdown",
      "metadata": {
        "id": "AqUl2K22n2-d"
      },
      "source": [
        "#SELENIUM EN PYTHON(LIBRERIA)\n",
        "\n",
        "\n",
        "\n",
        "\n",
        "\n",
        "###1.1. Instalación de enlaces de Python para Selenium\n",
        "\n",
        "Utilice pip para instalar el paquete de selenium. Python 3 tiene pip disponible en la biblioteca estándar. Usando pip, puede instalar selenium de esta manera:\n"
      ]
    },
    {
      "cell_type": "code",
      "metadata": {
        "id": "HHT21OELG1J-"
      },
      "source": [
        "pip install selenium"
      ],
      "execution_count": null,
      "outputs": []
    },
    {
      "cell_type": "markdown",
      "metadata": {
        "id": "FCwyQx19G2Xt"
      },
      "source": [
        "\n",
        "\n",
        "1.3. Instrucciones para usuarios de Windows\n",
        "\n",
        "Instale Python 3 usando el MSI disponible en la página de descarga de python.org.\n",
        "\n",
        "Inicie un símbolo del sistema utilizando el programa cmd.exe y ejecute el comando pip como se indica a continuación para instalar selenium.\n",
        "\n",
        "**C:\\Python39\\Scripts\\pip.exe install selenium**\n"
      ]
    },
    {
      "cell_type": "markdown",
      "metadata": {
        "id": "ubk1dhLW38X7"
      },
      "source": [
        "###1.2. Controladores\n",
        "\n",
        "Selenium requiere un controlador para interactuar con el navegador elegido. Firefox, por ejemplo, requiere geckodriver, que debe instalarse antes de que se puedan ejecutar los ejemplos siguientes.\n",
        "\n",
        "Chrome:\thttps://sites.google.com/a/chromium.org/chromedriver/downloads\n",
        "\n",
        "Edge:\thttps://developer.microsoft.com/en-us/microsoft-edge/tools/webdriver/\n",
        "\n",
        "Firefox:\thttps://github.com/mozilla/geckodriver/releases\n",
        "\n",
        "Safari:\thttps://webkit.org/blog/6900/webdriver-support-in-safari-10/\n",
        "\n",
        "For more information about driver installation, please refer the official documentation."
      ]
    },
    {
      "cell_type": "code",
      "metadata": {
        "id": "VamVBL_6Iuhd"
      },
      "source": [
        "from selenium import webdriver\n",
        "from selenium.webdriver.common.keys import Keys\n",
        "\n",
        "driver = webdriver.Firefox()\n",
        "driver.get(\"http://www.python.org\")\n",
        "assert \"Python\" in driver.title\n",
        "elem = driver.find_element_by_name(\"q\")\n",
        "elem.clear()\n",
        "elem.send_keys(\"pycon\")\n",
        "elem.send_keys(Keys.RETURN)\n",
        "assert \"No results found.\" not in driver.page_source\n",
        "driver.close()"
      ],
      "execution_count": null,
      "outputs": []
    },
    {
      "cell_type": "markdown",
      "metadata": {
        "id": "YcshjX357bEh"
      },
      "source": [
        "\n",
        "2. Ejemplo\n",
        "\n",
        "El módulo selenium.webdriver proporciona todas las implementaciones de WebDriver. Las implementaciones de WebDriver admitidas actualmente son Firefox, Chrome, IE y Remote. La clase Keys proporciona teclas en el teclado como RETURN, F1, ALT, etc.\n"
      ]
    },
    {
      "cell_type": "markdown",
      "metadata": {
        "id": "jJa8jPhF8oqn"
      },
      "source": [
        "\n",
        "El módulo selenium.webdriver proporciona todas las implementaciones de WebDriver. Las implementaciones de WebDriver admitidas actualmente son Firefox, Chrome, IE y Remote. La clase Keys proporciona teclas en el teclado como RETURN, F1, ALT, etc."
      ]
    },
    {
      "cell_type": "code",
      "metadata": {
        "id": "MfFJBeJn8lvQ"
      },
      "source": [
        "from selenium import webdriver\n",
        "\n",
        "from selenium.webdriver.common.keys import Keys"
      ],
      "execution_count": null,
      "outputs": []
    },
    {
      "cell_type": "markdown",
      "metadata": {
        "id": "Kx4QBHpa8sYO"
      },
      "source": [
        "A continuación, se crea la instancia de Firefox WebDriver."
      ]
    },
    {
      "cell_type": "code",
      "metadata": {
        "id": "aAR81jwi8spO"
      },
      "source": [
        "driver = webdriver.Chrome()"
      ],
      "execution_count": null,
      "outputs": []
    },
    {
      "cell_type": "markdown",
      "metadata": {
        "id": "gLm37Hrc8sw_"
      },
      "source": [
        "El método driver.get navegará a una página proporcionada por la URL. WebDriver esperará hasta que la página se haya cargado por completo (es decir, se haya activado el evento \"onload\") antes de devolver el control a su prueba o script. Tenga en cuenta que si su página usa mucho AJAX en la carga, es posible que WebDriver no sepa cuándo se ha cargado por completo:"
      ]
    },
    {
      "cell_type": "code",
      "metadata": {
        "id": "942CS6en8s2W"
      },
      "source": [
        "driver.get(\"http://www.python.org\")"
      ],
      "execution_count": null,
      "outputs": []
    },
    {
      "cell_type": "markdown",
      "metadata": {
        "id": "DhNxo9faJSxm"
      },
      "source": [
        "La siguiente línea es una afirmación para confirmar que el título tiene la palabra \"Python\":"
      ]
    },
    {
      "cell_type": "code",
      "metadata": {
        "id": "DpBlq_D_8tA_"
      },
      "source": [
        "assert \"Python\" in driver.title"
      ],
      "execution_count": null,
      "outputs": []
    },
    {
      "cell_type": "markdown",
      "metadata": {
        "id": "eIcv7ykG8t7f"
      },
      "source": [
        "**Locating Elements**\n",
        "\n",
        "hay varias estrategias para localizar elementos:\n",
        "\n",
        "find_element_by_id\n",
        "\n",
        "find_element_by_name\n",
        "\n",
        "find_element_by_xpath\n",
        "\n",
        "find_element_by_link_text\n",
        "\n",
        "find_element_by_partial_link_text\n",
        "\n",
        "find_element_by_tag_name\n",
        "\n",
        "find_element_by_class_name\n",
        "\n",
        "find_element_by_css_selector"
      ]
    },
    {
      "cell_type": "code",
      "metadata": {
        "id": "eY8pF85s8tTP"
      },
      "source": [
        "elem = driver.find_element_by_name(\"q\")"
      ],
      "execution_count": null,
      "outputs": []
    },
    {
      "cell_type": "markdown",
      "metadata": {
        "id": "tcpas0p78tOe"
      },
      "source": [
        "Entonces, ya al obtener un elemento. ¿Qué se puede hacer con eso? En primer lugar, es posible que desee ingresar texto en un campo de texto:\n",
        "\n",
        "element.send_keys (\"some text\") \n",
        "\n",
        "Puede simular presionar las teclas de flecha usando la clase \"Keys\":\n",
        "\n",
        "element.send_keys (\"y algunos\", Keys.ARROW_DOWN)\n",
        "Es posible llamar a send_keys en cualquier elemento. Tambien se puede borrar fácilmente el contenido de un campo de texto o un área de texto con el método clear:\n",
        "\n",
        "element.clear ()\n",
        "\n",
        "Rellenar formularios\n",
        "  Ya hemos visto cómo introducir texto en un área de texto o en un campo de texto, pero ¿qué pasa con los otros elementos? Puede \"alternar\" el estado del menú desplegable y puede utilizar \"setSelected\" para establecer algo como una etiqueta de OPCIÓN seleccionada. Tratar con SELECT etiquetas no es tan malo:\n",
        "\n",
        "element = driver.find_element_by_xpath (\"// seleccionar [@ name = 'name']\") all_options = element.find_elements_by_tag_name (\"opción\") para la opción en all_options: print (\"El valor es:% s\"% option.get_attribute (\" valor \")) opción.click ()\n",
        "\n",
        "Una vez que haya terminado de completar el formulario, probablemente desee enviarlo. Una forma de hacerlo sería buscar el botón \"enviar\" y hacer clic en él:\n",
        "\n",
        "elemento_boton.click()\n",
        "\n",
        "el metodo .click() simula intuitivamente la accion click izquierdo, para elementos como botones, links, checkbox, option box, entre otros."
      ]
    },
    {
      "cell_type": "code",
      "metadata": {
        "id": "X0Z1w-Pi8t_u"
      },
      "source": [
        "elem.clear()\n",
        "elem.send_keys(\"pycon\")\n",
        "elem.send_keys(Keys.RETURN)"
      ],
      "execution_count": null,
      "outputs": []
    },
    {
      "cell_type": "code",
      "metadata": {
        "id": "XCr_i9Pa8uIn"
      },
      "source": [
        "assert \"No results found.\" not in driver.page_source"
      ],
      "execution_count": null,
      "outputs": []
    },
    {
      "cell_type": "code",
      "metadata": {
        "id": "D6_vUrCu8_4n"
      },
      "source": [
        "driver.close()"
      ],
      "execution_count": null,
      "outputs": []
    },
    {
      "cell_type": "markdown",
      "metadata": {
        "id": "WwRHnC4x_e9X"
      },
      "source": [
        "## Moverse entre ventanas y Frames\n",
        "\n",
        "Es raro que una aplicación web moderna no tenga marcos o esté restringida a una sola ventana. WebDriver admite moverse entre ventanas con nombre usando el método \"switch_to_window\":\n",
        "\n",
        "driver.switch_to_window (\"nombreVentana\")\n",
        "\n",
        "driver.switch_to_frame (\"nombre de marco\")\n",
        "\n",
        "\n",
        "Una vez que hayamos terminado de trabajar en los marcos, tendremos que volver al marco principal, lo que se puede hacer usando:\n",
        "\n",
        "driver.switch_to_default_content ()\n",
        "\n"
      ]
    },
    {
      "cell_type": "markdown",
      "metadata": {
        "id": "PVJ574SgLq5F"
      },
      "source": [
        " para cambiar a diferentes ventanas del navegador:\n",
        " \n",
        "driver.window_handles[posicion]\n",
        "\n",
        "driver.switch_to_window (driver.window_handles[-1])"
      ]
    },
    {
      "cell_type": "markdown",
      "metadata": {
        "id": "qzlEkA8qACWo"
      },
      "source": [
        "## Diálogos emergentes\n",
        "\n",
        "Selenium WebDriver tiene soporte integrado para manejar cuadros de diálogo emergentes. Después de haber activado una acción que abriría una ventana emergente, puede acceder a la alerta con lo siguiente:\n",
        "\n",
        "alert = driver.switch_to.alert"
      ]
    },
    {
      "cell_type": "markdown",
      "metadata": {
        "id": "mQgdRjUJNPJL"
      },
      "source": [
        "## visualizacion en consola/terminal\n",
        "\n",
        "Ya que estamos manejando estas pruebas de selenium solamente atravez del paquete de python, y no desde el mismo aplicativo Selenium IDE y RC,\n",
        "la consola/terminal de python nos pide en algunos puntos enlazar estos elementos de selenium.\n",
        "\n",
        "podemos omitir estos mensajes en la terminal utilizando el siguiente codigo cuando llamamos el driver:\n"
      ]
    },
    {
      "cell_type": "code",
      "metadata": {
        "id": "ney9eLGsQb_s"
      },
      "source": [
        "options = webdriver.ChromeOptions()\n",
        "options.add_experimental_option('excludeSwitches', ['enable-logging'])\n",
        "driver = webdriver.Chrome(\"ubicacion_webdriber\", options=options)"
      ],
      "execution_count": null,
      "outputs": []
    },
    {
      "cell_type": "markdown",
      "metadata": {
        "id": "7JoSJD6URn-0"
      },
      "source": [
        "##Waits\n",
        "\n",
        "En la actualidad, la mayoría de las aplicaciones web utilizan técnicas AJAX(Asynchronous JavaScript And XML). Cuando el navegador carga una página, los elementos dentro de esa página pueden cargarse en diferentes intervalos de tiempo. Esto dificulta la localización de elementos: si un elemento aún no está presente en el DOM, una función de localización generará una excepción ElementNotVisibleException.\n",
        "\n",
        "para esto podemos utilizar time.sleep(segundos) despues del driver.get() si no se estan recibiendo a tiempo los elementos,\n"
      ]
    },
    {
      "cell_type": "code",
      "metadata": {
        "id": "6BKIhAbyTIEN"
      },
      "source": [
        "from time import sleep\n",
        "driver.get(\"http://www.python.org\")\n",
        "sleep(1)"
      ],
      "execution_count": null,
      "outputs": []
    },
    {
      "cell_type": "markdown",
      "metadata": {
        "id": "fdSGONVfTQqi"
      },
      "source": [
        "estos tiempos son relativos y dependen de cada aplicacion web en especifico"
      ]
    },
    {
      "cell_type": "markdown",
      "metadata": {
        "id": "nzev1ydBT8ma"
      },
      "source": [
        "por ultimo una forma interesante de reemplazar el confirmador \"assert\" es trabajar condicionales o ciclos sobre la sentencia a confirmar, un ejemplo:"
      ]
    },
    {
      "cell_type": "code",
      "metadata": {
        "id": "_PTQeK2TXgm7"
      },
      "source": [
        "if \"No results found.\" in driver.page_source:\n",
        "    print('El nombre de usuario ya está en uso.')\n",
        "else:\n",
        "    print('Nombre de usuario disponible.')\n"
      ],
      "execution_count": null,
      "outputs": []
    },
    {
      "cell_type": "markdown",
      "metadata": {
        "id": "9OZtUdmf5qDp"
      },
      "source": [
        "\n",
        "#Replit\n"
      ]
    },
    {
      "cell_type": "markdown",
      "metadata": {
        "id": "HH8saX6c5s94"
      },
      "source": [
        "para trabajar en replit correr antes del metodo .get():\n",
        "\n"
      ]
    },
    {
      "cell_type": "code",
      "metadata": {
        "id": "JDsEYL7K5wqo"
      },
      "source": [
        "from selenium import webdriver\n",
        "\n",
        "from selenium.webdriver.chrome.options import Options\n",
        "\n",
        "chrome_options = Options()\n",
        "chrome_options.add_argument('--no-sandbox')\n",
        "chrome_options.add_argument('--disable-dev-shm-usage')\n",
        "\n",
        "driver = webdriver.Chrome(options=chrome_options)"
      ],
      "execution_count": null,
      "outputs": []
    },
    {
      "cell_type": "markdown",
      "metadata": {
        "id": "Q4nS0yv9X7IZ"
      },
      "source": [
        "#TAREA\n",
        "\n",
        "crear un arreglo con 1 nombres completos cualesquiera(\"nombre y apellido\")\n",
        "\n",
        "Realizar una prueba con selenium en el pagina web home de Gmail: https://www.google.com/intl/es-419/gmail/about/ para verificar nombres de usuarios en la base de datos.\n",
        "\n",
        "la prueba consiste en:\n",
        "1. confirmar que en el titulo de la pagina se encuentra la cadena \"Gmail\"\n",
        "2. buscar, encontrar y hacer click en cualquiera de los 2 links de redireccion \"crear una cuenta\", esto abrira una nueva ventana del navegador\n",
        "\n",
        "3. en la nueva ventana buscar el elemento input donde el usuario ingresa su nombre de usuario\n",
        "4. probar e imprimir en consola un mensaje explicando si cada uno los nombres(1)del arreglo ya esta en uso, o si esta disponible.\n",
        "\n",
        "nota: despues de ingresar el nombre de usuario en el elemento, hay que salir del elemento para que se actualice el mensaje en la parte inferior, pueden usar send.key(TAB) o otro.\n",
        "\n",
        "\n"
      ]
    }
  ]
}